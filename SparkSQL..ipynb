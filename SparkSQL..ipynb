﻿{
  "metadata": {
    "name": "SparkSQL",
    "kernelspec": {
      "language": "scala",
      "name": "spark2-scala"
    },
    "language_info": {
      "codemirror_mode": "text/x-scala",
      "file_extension": ".scala",
      "mimetype": "text/x-scala",
      "name": "scala",
      "pygments_lexer": "scala"
    }
  },
  "nbformat": 4,
  "nbformat_minor": 2,
  "cells": [
    {
      "cell_type": "code",
      "execution_count": 0,
      "metadata": {
        "autoscroll": "auto"
      },
      "outputs": [],
      "source": "%spark.sql\nSELECT app.*, credit.resiko \n        FROM \n        (SELECT id,code_gender,flag_own_car,flag_own_realty,cnt_children,amt_income_total,    \n    name_income_type,name_education_type,name_family_status,name_housing_type,days_birth,\n    days_employed,flag_mobil,flag_work_phone,flag_phone,flag_email,\n              CASE WHEN trim(occupation_type) \u003d\u003d \u0027\u0027 THEN \u0027Other\u0027 ELSE occupation_type END as occupation_type,\n            cnt_fam_members, \n              date_add(current_date(), days_birth) as dob FROM \n                (SELECT distinct * FROM user0.app)) as app \n        JOIN\n        (SELECT id, sum(status_new) as resiko from \n            (SELECT id, status, CASE WHEN status in (\u0027C\u0027,\u0027X\u0027,\u00270\u0027) THEN 0 ELSE 1 END as status_new FROM user0.credit) \n        GROUP BY id) as credit\n        ON app.id \u003d credit.id;"
    },
    {
      "cell_type": "code",
      "execution_count": 1,
      "metadata": {
        "autoscroll": "auto"
      },
      "outputs": [],
      "source": "%spark.sql\n"
    }
  ]
}